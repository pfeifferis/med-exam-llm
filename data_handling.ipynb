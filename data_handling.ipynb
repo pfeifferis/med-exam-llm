{
 "cells": [
  {
   "cell_type": "code",
   "execution_count": null,
   "metadata": {},
   "outputs": [],
   "source": [
    "import pandas as pd\n",
    "import PIL.Image\n",
    "import numpy as np"
   ]
  },
  {
   "cell_type": "code",
   "execution_count": null,
   "metadata": {},
   "outputs": [],
   "source": [
    "df = pd.read_excel('data/questions.xlsx', sheet_name='AMBOSS - image')"
   ]
  },
  {
   "cell_type": "code",
   "execution_count": null,
   "metadata": {},
   "outputs": [],
   "source": [
    "df.columns"
   ]
  },
  {
   "cell_type": "code",
   "execution_count": null,
   "metadata": {},
   "outputs": [],
   "source": [
    "df_new = df[['overall number', 'total question ', 'case', 'correct answer']]"
   ]
  },
  {
   "cell_type": "code",
   "execution_count": null,
   "metadata": {},
   "outputs": [],
   "source": [
    "df_new.drop([50,51,52,53,54], inplace=True)\n"
   ]
  },
  {
   "cell_type": "code",
   "execution_count": null,
   "metadata": {},
   "outputs": [],
   "source": [
    "df_new['overall number'] = df_new['overall number'].astype(int)"
   ]
  },
  {
   "cell_type": "code",
   "execution_count": null,
   "metadata": {},
   "outputs": [],
   "source": [
    "df_new.rename(columns={'overall number': 'id', 'total question ': 'question', 'correct answer': 'correct_answer'}, inplace=True)"
   ]
  },
  {
   "cell_type": "code",
   "execution_count": null,
   "metadata": {},
   "outputs": [],
   "source": [
    "df_new.replace({'case': '-'}, float('NaN'), inplace=True)\n",
    "df_new.replace('NaN', np.nan, inplace=True)"
   ]
  },
  {
   "cell_type": "code",
   "execution_count": null,
   "metadata": {},
   "outputs": [],
   "source": [
    "df_new"
   ]
  },
  {
   "cell_type": "code",
   "execution_count": null,
   "metadata": {},
   "outputs": [],
   "source": [
    "def question_image(id):\n",
    "    if df_new['case'][df_new['id'] == id].notna().all(): \n",
    "        text = df_new['case'][df_new['id'] == id].values[0] + df_new['question'][df_new['id'] == id].values[0]\n",
    "    else:\n",
    "        text = df_new['question'][df_new['id'] == id].values[0]\n",
    "    print(text)\n",
    "    img = PIL.Image.open(f'data/images/Amboss_SURG_images_{id:02}.png')\n",
    "    #img.show()\n",
    "    display(img)"
   ]
  },
  {
   "cell_type": "code",
   "execution_count": null,
   "metadata": {},
   "outputs": [],
   "source": [
    "for i in df_new['id']:\n",
    "    print(f'Question: {i}')\n",
    "    question_image(i)"
   ]
  }
 ],
 "metadata": {
  "kernelspec": {
   "display_name": "med-exam-llm-venv",
   "language": "python",
   "name": "python3"
  },
  "language_info": {
   "codemirror_mode": {
    "name": "ipython",
    "version": 3
   },
   "file_extension": ".py",
   "mimetype": "text/x-python",
   "name": "python",
   "nbconvert_exporter": "python",
   "pygments_lexer": "ipython3",
   "version": "3.10.5"
  }
 },
 "nbformat": 4,
 "nbformat_minor": 2
}
